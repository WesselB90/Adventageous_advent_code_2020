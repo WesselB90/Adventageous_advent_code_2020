{
 "cells": [
  {
   "cell_type": "markdown",
   "metadata": {},
   "source": [
    "## Assignment 1 - Part 1"
   ]
  },
  {
   "cell_type": "markdown",
   "metadata": {},
   "source": [
    "### Lazy mode"
   ]
  },
  {
   "cell_type": "code",
   "execution_count": 60,
   "metadata": {},
   "outputs": [],
   "source": [
    "import pandas as pd\n",
    "import numpy as np"
   ]
  },
  {
   "cell_type": "code",
   "execution_count": 40,
   "metadata": {},
   "outputs": [],
   "source": [
    "numlist = pd.read_csv(\"C:/Users/Wessel/Downloads/advent_1.txt\", sep = \" \", header = None) "
   ]
  },
  {
   "cell_type": "code",
   "execution_count": 41,
   "metadata": {},
   "outputs": [],
   "source": [
    "### Making a good old nested for-loop.. there should be 2 winning numbers, as the sum of both numbers fulfills the if-statement's condition and both numbers will be encountered in the loop. \n",
    "winner = []\n",
    "winning_nums = []\n",
    "for num in numlist[0].values:\n",
    "    for i in range(0, len(numlist)):\n",
    "        if num + numlist[0][i] == 2020:\n",
    "            winner.append(num)\n",
    "            winning_nums.append(num * numlist[0][i])"
   ]
  },
  {
   "cell_type": "code",
   "execution_count": 42,
   "metadata": {},
   "outputs": [
    {
     "data": {
      "text/plain": [
       "[913824, 913824]"
      ]
     },
     "execution_count": 42,
     "metadata": {},
     "output_type": "execute_result"
    }
   ],
   "source": [
    "winning_nums"
   ]
  },
  {
   "cell_type": "code",
   "execution_count": 43,
   "metadata": {},
   "outputs": [
    {
     "data": {
      "text/plain": [
       "[684, 1336]"
      ]
     },
     "execution_count": 43,
     "metadata": {},
     "output_type": "execute_result"
    }
   ],
   "source": [
    "winner"
   ]
  },
  {
   "cell_type": "markdown",
   "metadata": {},
   "source": [
    "## Assignment 1 - Part 2"
   ]
  },
  {
   "cell_type": "markdown",
   "metadata": {},
   "source": [
    "### ...fine"
   ]
  },
  {
   "cell_type": "code",
   "execution_count": 47,
   "metadata": {},
   "outputs": [],
   "source": [
    "from itertools import combinations "
   ]
  },
  {
   "cell_type": "code",
   "execution_count": 58,
   "metadata": {},
   "outputs": [
    {
     "name": "stdout",
     "output_type": "stream",
     "text": [
      "(684, 1336)\n",
      "913824\n"
     ]
    }
   ],
   "source": [
    "### Alternative to Part 1\n",
    "comb_nums = combinations(numlist[0].values, 2)\n",
    "for combs in comb_nums:\n",
    "    if sum(combs) == 2020:\n",
    "        print(combs) # We have a winner\n",
    "        print(combs[0] * combs[1]) # Here's our winning number!"
   ]
  },
  {
   "cell_type": "code",
   "execution_count": 62,
   "metadata": {},
   "outputs": [
    {
     "name": "stdout",
     "output_type": "stream",
     "text": [
      "(1068, 444, 508)\n",
      "240889536\n"
     ]
    }
   ],
   "source": [
    "### Now to solve the same problem, but with combinations of 3.\n",
    "comb_nums = combinations(numlist[0].values, 3)\n",
    "for combs in comb_nums:\n",
    "    if sum(combs) == 2020:\n",
    "        print(combs) # We have a winner\n",
    "        print(np.prod(combs)) # Here's our winning number!"
   ]
  }
 ],
 "metadata": {
  "kernelspec": {
   "display_name": "Python 3",
   "language": "python",
   "name": "python3"
  },
  "language_info": {
   "codemirror_mode": {
    "name": "ipython",
    "version": 3
   },
   "file_extension": ".py",
   "mimetype": "text/x-python",
   "name": "python",
   "nbconvert_exporter": "python",
   "pygments_lexer": "ipython3",
   "version": "3.7.6"
  }
 },
 "nbformat": 4,
 "nbformat_minor": 4
}
