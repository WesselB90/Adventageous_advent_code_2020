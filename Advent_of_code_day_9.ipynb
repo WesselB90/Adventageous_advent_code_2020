{
 "cells": [
  {
   "cell_type": "markdown",
   "metadata": {},
   "source": [
    "## Day 8 - Part 1"
   ]
  },
  {
   "cell_type": "markdown",
   "metadata": {},
   "source": [
    "### Importing packages"
   ]
  },
  {
   "cell_type": "code",
   "execution_count": 474,
   "metadata": {},
   "outputs": [],
   "source": [
    "import pandas as pd"
   ]
  },
  {
   "cell_type": "markdown",
   "metadata": {},
   "source": [
    "### Loading data"
   ]
  },
  {
   "cell_type": "code",
   "execution_count": 498,
   "metadata": {},
   "outputs": [],
   "source": [
    "data = pd.read_csv(\"task_8_data.txt\", sep = \"\\n\", header = None)\n",
    "data = data[0].str.split(\" \", expand = True)\n",
    "data.columns = [\"Operation\", \"Argument\"]"
   ]
  },
  {
   "cell_type": "markdown",
   "metadata": {},
   "source": [
    "## Checking out our new data - fancy!"
   ]
  },
  {
   "cell_type": "code",
   "execution_count": 499,
   "metadata": {},
   "outputs": [
    {
     "data": {
      "text/html": [
       "<div>\n",
       "<style scoped>\n",
       "    .dataframe tbody tr th:only-of-type {\n",
       "        vertical-align: middle;\n",
       "    }\n",
       "\n",
       "    .dataframe tbody tr th {\n",
       "        vertical-align: top;\n",
       "    }\n",
       "\n",
       "    .dataframe thead th {\n",
       "        text-align: right;\n",
       "    }\n",
       "</style>\n",
       "<table border=\"1\" class=\"dataframe\">\n",
       "  <thead>\n",
       "    <tr style=\"text-align: right;\">\n",
       "      <th></th>\n",
       "      <th>Operation</th>\n",
       "      <th>Argument</th>\n",
       "    </tr>\n",
       "  </thead>\n",
       "  <tbody>\n",
       "    <tr>\n",
       "      <th>0</th>\n",
       "      <td>nop</td>\n",
       "      <td>+116</td>\n",
       "    </tr>\n",
       "    <tr>\n",
       "      <th>1</th>\n",
       "      <td>acc</td>\n",
       "      <td>+12</td>\n",
       "    </tr>\n",
       "    <tr>\n",
       "      <th>2</th>\n",
       "      <td>acc</td>\n",
       "      <td>-8</td>\n",
       "    </tr>\n",
       "    <tr>\n",
       "      <th>3</th>\n",
       "      <td>acc</td>\n",
       "      <td>+34</td>\n",
       "    </tr>\n",
       "    <tr>\n",
       "      <th>4</th>\n",
       "      <td>jmp</td>\n",
       "      <td>+485</td>\n",
       "    </tr>\n",
       "    <tr>\n",
       "      <th>...</th>\n",
       "      <td>...</td>\n",
       "      <td>...</td>\n",
       "    </tr>\n",
       "    <tr>\n",
       "      <th>621</th>\n",
       "      <td>acc</td>\n",
       "      <td>-7</td>\n",
       "    </tr>\n",
       "    <tr>\n",
       "      <th>622</th>\n",
       "      <td>acc</td>\n",
       "      <td>+30</td>\n",
       "    </tr>\n",
       "    <tr>\n",
       "      <th>623</th>\n",
       "      <td>acc</td>\n",
       "      <td>+26</td>\n",
       "    </tr>\n",
       "    <tr>\n",
       "      <th>624</th>\n",
       "      <td>jmp</td>\n",
       "      <td>+1</td>\n",
       "    </tr>\n",
       "    <tr>\n",
       "      <th>625</th>\n",
       "      <td>jmp</td>\n",
       "      <td>+1</td>\n",
       "    </tr>\n",
       "  </tbody>\n",
       "</table>\n",
       "<p>626 rows × 2 columns</p>\n",
       "</div>"
      ],
      "text/plain": [
       "    Operation Argument\n",
       "0         nop     +116\n",
       "1         acc      +12\n",
       "2         acc       -8\n",
       "3         acc      +34\n",
       "4         jmp     +485\n",
       "..        ...      ...\n",
       "621       acc       -7\n",
       "622       acc      +30\n",
       "623       acc      +26\n",
       "624       jmp       +1\n",
       "625       jmp       +1\n",
       "\n",
       "[626 rows x 2 columns]"
      ]
     },
     "execution_count": 499,
     "metadata": {},
     "output_type": "execute_result"
    }
   ],
   "source": [
    "data"
   ]
  },
  {
   "cell_type": "markdown",
   "metadata": {},
   "source": [
    "## Time to make this loop not do weird things, like terminate. "
   ]
  },
  {
   "cell_type": "code",
   "execution_count": 500,
   "metadata": {},
   "outputs": [],
   "source": [
    "def accumulator_loop(data):\n",
    "    ### Setting 3 variables\n",
    "    i = 0\n",
    "    i_log = []\n",
    "    accumulator = 0\n",
    "    ## As long as i is less than the total length of the data, keep looping\n",
    "    while i < len(data):\n",
    "        ## Here we simply define the instructions from the task... instructions.\n",
    "        if data[\"Operation\"][i] == \"acc\":\n",
    "            accumulator += int(data[\"Argument\"][i])\n",
    "        if data[\"Operation\"][i] == \"jmp\":\n",
    "            i += int(data[\"Argument\"][i])\n",
    "            continue\n",
    "        ## Now it's time to get interesting. We'll keep a log of our i's (our loop-iterations) for each iteration.\n",
    "        i_log.append(i)\n",
    "        ## Doing so allows us to check whether or not the i is a unique value, or if it has been checked before.\n",
    "        ## If it has, check if that specific Operation added to the accumulator and, if so, remove that value, then break the operation.\n",
    "        if len(i_log) > len(set(i_log)):\n",
    "            if data[\"Operation\"][i] == \"acc\":\n",
    "                accumulator = accumulator - int(data[\"Argument\"][i])\n",
    "            break\n",
    "        \n",
    "        ## Keep the loop alive!\n",
    "        i += 1\n",
    "        \n",
    "    return(accumulator, i_log)"
   ]
  },
  {
   "cell_type": "code",
   "execution_count": 501,
   "metadata": {},
   "outputs": [
    {
     "name": "stdout",
     "output_type": "stream",
     "text": [
      "The function has stopped now, finding it's first repetition. The accumulator-value is now set on: 1832 . \n",
      "If you're interested, this is the log-list of occurences:\n",
      " [0, 1, 2, 3, 489, 452, 453, 39, 608, 62, 63, 315, 316, 345, 346, 347, 579, 580, 581, 70, 319, 320, 321, 322, 429, 430, 212, 214, 566, 567, 362, 28, 29, 30, 242, 243, 244, 499, 500, 541, 542, 543, 173, 174, 175, 303, 304, 411, 370, 371, 283, 284, 291, 292, 293, 294, 585, 586, 587, 550, 472, 473, 329, 332, 333, 7, 8, 9, 558, 559, 560, 561, 17, 18, 196, 197, 77, 78, 79, 80, 203, 204, 205, 442, 443, 444, 445, 403, 404, 405, 465, 466, 136, 137, 138, 234, 235, 236, 237, 307, 309, 310, 52, 53, 54, 55, 142, 143, 144, 504, 457, 458, 459, 460, 159, 161, 536, 537, 538, 436, 376, 377, 590, 270, 514, 515, 516, 517, 452]\n"
     ]
    }
   ],
   "source": [
    "results = accumulator_loop(data)\n",
    "print(\"The function has stopped now, finding it's first repetition. The accumulator-value is now set on:\", results[0], \". \\nIf you're interested, this is the log-list of occurences:\\n\", results[1])"
   ]
  },
  {
   "cell_type": "markdown",
   "metadata": {},
   "source": [
    "## Day 8 - Part 2"
   ]
  },
  {
   "cell_type": "code",
   "execution_count": 502,
   "metadata": {},
   "outputs": [],
   "source": [
    "### This loop is the same as above, with one exception:\n",
    "def accumulator_loop(data):\n",
    "    i = 0\n",
    "    i_log = []\n",
    "    accumulator = 0\n",
    "    broke = False # THIS! \n",
    "    while i < len(data):\n",
    "        if data[\"Operation\"][i] == \"acc\":\n",
    "            accumulator += int(data[\"Argument\"][i])\n",
    "        if data[\"Operation\"][i] == \"jmp\":\n",
    "            i += int(data[\"Argument\"][i])\n",
    "            continue\n",
    "        i_log.append(i)\n",
    "        if len(i_log) > len(set(i_log)):\n",
    "            broke = True # If our loop breaks, this will record the fact that it did: broke will turn to true.\n",
    "            if data[\"Operation\"][i] == \"acc\":\n",
    "                accumulator = accumulator - int(data[\"Argument\"][i])\n",
    "            break\n",
    "\n",
    "        i += 1\n",
    "        \n",
    "    return(accumulator, i_log, broke)"
   ]
  },
  {
   "cell_type": "code",
   "execution_count": 503,
   "metadata": {},
   "outputs": [],
   "source": [
    "### Now let's write a function to abuse above change to the max.\n",
    "def Accumulator_fixer(data):\n",
    "    #### let's get back to the good ol' for-loop\n",
    "    for i in range(0, len(data)):\n",
    "        ### Run our above function...\n",
    "        results = accumulator_loop(data)\n",
    "        broke = results[2] \n",
    "        ### Check it if broke and, if it did...\n",
    "        if broke == True:\n",
    "            ## Change jmp to nop for the specific line within the data\n",
    "            if data[\"Operation\"][i] == \"jmp\":\n",
    "                data[\"Operation\"][i] = \"nop\"\n",
    "                ## Run the function again with this newly modded data\n",
    "                new_results = accumulator_loop(data)\n",
    "                new_results_broke = new_results[2]\n",
    "                ## If it broke, revert the change.\n",
    "                if new_results_broke == True:\n",
    "                    data[\"Operation\"][i] = \"jmp\"\n",
    "                    continue\n",
    "                ## If not, celebrate and give back the new results!\n",
    "                else:\n",
    "                    return new_results\n",
    "        else:\n",
    "            return results"
   ]
  },
  {
   "cell_type": "code",
   "execution_count": 506,
   "metadata": {},
   "outputs": [
    {
     "name": "stdout",
     "output_type": "stream",
     "text": [
      "The old loop gave back an accumulator-value of: 662\n"
     ]
    }
   ],
   "source": [
    "results = accumulator_loop(data)\n",
    "print(\"The old loop gave back an accumulator-value of:\", results[0])"
   ]
  },
  {
   "cell_type": "code",
   "execution_count": 510,
   "metadata": {},
   "outputs": [
    {
     "name": "stdout",
     "output_type": "stream",
     "text": [
      "This fancy function fixed our defective programme and gave us back an accumulator-value of:\n",
      "*drumroll*\n",
      " 662\n"
     ]
    }
   ],
   "source": [
    "results = Accumulator_fixer(data)\n",
    "print(\"This fancy function fixed our defective programme and gave us back an accumulator-value of:\\n*drumroll*\\n\", results[0])"
   ]
  }
 ],
 "metadata": {
  "kernelspec": {
   "display_name": "Python 3",
   "language": "python",
   "name": "python3"
  },
  "language_info": {
   "codemirror_mode": {
    "name": "ipython",
    "version": 3
   },
   "file_extension": ".py",
   "mimetype": "text/x-python",
   "name": "python",
   "nbconvert_exporter": "python",
   "pygments_lexer": "ipython3",
   "version": "3.7.6"
  }
 },
 "nbformat": 4,
 "nbformat_minor": 4
}
