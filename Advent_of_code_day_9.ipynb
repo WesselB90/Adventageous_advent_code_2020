{
 "cells": [
  {
   "cell_type": "markdown",
   "metadata": {},
   "source": [
    "## Day 9 - Part 1"
   ]
  },
  {
   "cell_type": "markdown",
   "metadata": {},
   "source": [
    "### Importing packages"
   ]
  },
  {
   "cell_type": "code",
   "execution_count": 3,
   "metadata": {},
   "outputs": [],
   "source": [
    "import pandas as pd\n",
    "import itertools"
   ]
  },
  {
   "cell_type": "markdown",
   "metadata": {},
   "source": [
    "### Loading data"
   ]
  },
  {
   "cell_type": "code",
   "execution_count": 176,
   "metadata": {},
   "outputs": [],
   "source": [
    "data = pd.read_csv(\"task_9_data.txt\", sep = \"\\n\", header = None)"
   ]
  },
  {
   "cell_type": "code",
   "execution_count": 177,
   "metadata": {},
   "outputs": [
    {
     "data": {
      "text/html": [
       "<div>\n",
       "<style scoped>\n",
       "    .dataframe tbody tr th:only-of-type {\n",
       "        vertical-align: middle;\n",
       "    }\n",
       "\n",
       "    .dataframe tbody tr th {\n",
       "        vertical-align: top;\n",
       "    }\n",
       "\n",
       "    .dataframe thead th {\n",
       "        text-align: right;\n",
       "    }\n",
       "</style>\n",
       "<table border=\"1\" class=\"dataframe\">\n",
       "  <thead>\n",
       "    <tr style=\"text-align: right;\">\n",
       "      <th></th>\n",
       "      <th>0</th>\n",
       "    </tr>\n",
       "  </thead>\n",
       "  <tbody>\n",
       "    <tr>\n",
       "      <th>0</th>\n",
       "      <td>30</td>\n",
       "    </tr>\n",
       "    <tr>\n",
       "      <th>1</th>\n",
       "      <td>17</td>\n",
       "    </tr>\n",
       "    <tr>\n",
       "      <th>2</th>\n",
       "      <td>44</td>\n",
       "    </tr>\n",
       "    <tr>\n",
       "      <th>3</th>\n",
       "      <td>5</td>\n",
       "    </tr>\n",
       "    <tr>\n",
       "      <th>4</th>\n",
       "      <td>10</td>\n",
       "    </tr>\n",
       "  </tbody>\n",
       "</table>\n",
       "</div>"
      ],
      "text/plain": [
       "    0\n",
       "0  30\n",
       "1  17\n",
       "2  44\n",
       "3   5\n",
       "4  10"
      ]
     },
     "execution_count": 177,
     "metadata": {},
     "output_type": "execute_result"
    }
   ],
   "source": [
    "data.head()"
   ]
  },
  {
   "cell_type": "markdown",
   "metadata": {},
   "source": [
    "### Finding our missing number"
   ]
  },
  {
   "cell_type": "code",
   "execution_count": 178,
   "metadata": {},
   "outputs": [],
   "source": [
    "preamb_len = 25\n",
    "\n",
    "#### This function will find our invalid-number for us! It needs a dataset and the preamble-length\n",
    "def invalid_number_finder(data, preamb_len):\n",
    "    ### Iterate over each line in the data.\n",
    "    for i in range(0, len(data)):\n",
    "        ## if that iteration (i) is more than the preamb\n",
    "        if i >= preamb_len:\n",
    "            # for the currently line, the possible numbers to sum \n",
    "            sum_check = data[0][i-preamb_len:i]\n",
    "            # And check if the sum of any combination of 2 of them work out to the current number.\n",
    "            if data[0][i] not in [sum(comb) for comb in itertools.combinations(sum_check, 2)]:\n",
    "                # if not, we´ll have found our invalid number\n",
    "                vulnerable_num = data[0][i]\n",
    "    return vulnerable_num        "
   ]
  },
  {
   "cell_type": "code",
   "execution_count": 179,
   "metadata": {},
   "outputs": [
    {
     "name": "stdout",
     "output_type": "stream",
     "text": [
      "The number we were looking to find iiiiiiiiiiis:\n",
      "*drumroll*\n",
      " 400480901\n"
     ]
    }
   ],
   "source": [
    "print(\"The number we were looking to find iiiiiiiiiiis:\\n*drumroll*\\n\", invalid_number_finder(data, preamb_len))"
   ]
  },
  {
   "cell_type": "markdown",
   "metadata": {},
   "source": [
    "## Part 2"
   ]
  },
  {
   "cell_type": "code",
   "execution_count": 180,
   "metadata": {},
   "outputs": [],
   "source": [
    "def weakness_finder(data, preamb_len):\n",
    "    invalid_num = invalid_number_finder(data, preamb_len)\n",
    "    for i in range(0, len(data)):\n",
    "        if data[0][i] == invalid_num:\n",
    "            for j in range(0, len(data[0][:i])):\n",
    "                for k in range(1, len(data[0][:i])):\n",
    "                    if data[0][i] == sum(data[0][j:k]):\n",
    "                        maximum = max(data[0][j:k])\n",
    "                        minimum = min(data[0][j:k])\n",
    "                        vulnerable_number = maximum + minimum\n",
    "                        break\n",
    "    return(invalid_num, vulnerable_number)"
   ]
  },
  {
   "cell_type": "code",
   "execution_count": 181,
   "metadata": {},
   "outputs": [
    {
     "name": "stdout",
     "output_type": "stream",
     "text": [
      "We found our vulnerable number. See, our invalid number is 400480901 . Looking through the data, that means our vulnerability-number is: \n",
      "*drumroll 2.0*\n",
      " 67587168\n"
     ]
    }
   ],
   "source": [
    "results = weakness_finder(data, preamb_len)\n",
    "print(\"We found our vulnerable number. See, our invalid number is\", results[0],\". Looking through the data, that means our vulnerability-number is: \\n*drumroll 2.0*\\n\", results[1])"
   ]
  }
 ],
 "metadata": {
  "kernelspec": {
   "display_name": "Python 3",
   "language": "python",
   "name": "python3"
  },
  "language_info": {
   "codemirror_mode": {
    "name": "ipython",
    "version": 3
   },
   "file_extension": ".py",
   "mimetype": "text/x-python",
   "name": "python",
   "nbconvert_exporter": "python",
   "pygments_lexer": "ipython3",
   "version": "3.7.6"
  }
 },
 "nbformat": 4,
 "nbformat_minor": 4
}
