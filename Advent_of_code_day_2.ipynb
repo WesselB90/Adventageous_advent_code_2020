{
 "cells": [
  {
   "cell_type": "markdown",
   "metadata": {},
   "source": [
    "## Assignment 2 - Part 1"
   ]
  },
  {
   "cell_type": "markdown",
   "metadata": {},
   "source": [
    "### Importing packages"
   ]
  },
  {
   "cell_type": "code",
   "execution_count": 73,
   "metadata": {},
   "outputs": [],
   "source": [
    "import pandas as pd\n",
    "import numpy as np"
   ]
  },
  {
   "cell_type": "markdown",
   "metadata": {},
   "source": [
    "### Loading data"
   ]
  },
  {
   "cell_type": "code",
   "execution_count": 74,
   "metadata": {},
   "outputs": [],
   "source": [
    "data = pd.read_csv(\"task_2_data.txt\", header = None, sep = \" \")"
   ]
  },
  {
   "cell_type": "markdown",
   "metadata": {},
   "source": [
    "### Let's see... quite a few lines."
   ]
  },
  {
   "cell_type": "code",
   "execution_count": 75,
   "metadata": {},
   "outputs": [
    {
     "data": {
      "text/plain": [
       "(1000, 3)"
      ]
     },
     "execution_count": 75,
     "metadata": {},
     "output_type": "execute_result"
    }
   ],
   "source": [
    "data.shape"
   ]
  },
  {
   "cell_type": "markdown",
   "metadata": {},
   "source": [
    "### We need to establish a maximum and minimum to the number of the letter involved from the given range"
   ]
  },
  {
   "cell_type": "code",
   "execution_count": 76,
   "metadata": {},
   "outputs": [
    {
     "data": {
      "text/plain": [
       "array(['1-7', '1-3', '15-16', '4-16', '6-7', '17-18', '4-5', '3-9',\n",
       "       '3-10', '5-11', '5-8', '13-14', '11-16', '3-13', '7-10', '4-7',\n",
       "       '14-18', '5-6', '9-14', '11-19', '15-18', '2-10', '10-20', '8-9',\n",
       "       '12-19', '11-13', '9-16', '3-8', '13-19', '7-8', '10-11', '3-6',\n",
       "       '1-4', '6-8', '2-6', '3-4', '2-8', '1-2', '17-20', '8-10', '2-5',\n",
       "       '9-10', '9-11', '19-20', '8-11', '6-10', '5-12', '5-15', '12-16',\n",
       "       '4-10', '4-9', '5-14', '5-19', '10-12', '9-18', '2-7', '8-12',\n",
       "       '13-17', '1-5', '2-3', '11-18', '14-16', '7-9', '2-4', '12-13',\n",
       "       '16-19', '2-13', '7-12', '5-7', '3-7', '11-14', '2-11', '10-15',\n",
       "       '4-11', '6-9', '16-17', '8-14', '1-12', '13-16', '1-9', '8-15',\n",
       "       '4-6', '15-19', '10-17', '7-17', '2-12', '5-16', '12-14', '14-19',\n",
       "       '1-10', '1-6', '13-15', '10-16', '1-11', '15-17', '8-13', '7-16',\n",
       "       '7-13', '6-12', '10-14', '13-18', '4-14', '7-11', '2-17', '8-16',\n",
       "       '5-9', '11-17', '5-10', '3-12', '3-5', '10-13', '5-17', '8-19',\n",
       "       '8-18', '16-18', '18-19', '1-13', '11-15', '1-16', '11-12', '9-12',\n",
       "       '1-8', '6-11', '14-15', '1-17', '9-13', '6-14', '4-12', '4-8',\n",
       "       '2-14', '12-18', '6-13', '17-19', '15-20', '14-17', '16-20',\n",
       "       '2-15', '12-17', '1-14', '6-17', '3-11', '3-16', '3-15', '2-16',\n",
       "       '4-20', '3-17', '4-13', '2-9', '5-18', '9-15', '6-16', '12-15',\n",
       "       '13-20', '7-14', '3-14', '5-13', '3-19', '9-17'], dtype=object)"
      ]
     },
     "execution_count": 76,
     "metadata": {},
     "output_type": "execute_result"
    }
   ],
   "source": [
    "### ...Let's look at the range of numbers here.\n",
    "data[0].unique()\n",
    "## Nothing too weird"
   ]
  },
  {
   "cell_type": "code",
   "execution_count": 77,
   "metadata": {},
   "outputs": [
    {
     "data": {
      "text/plain": [
       "'1-7'"
      ]
     },
     "execution_count": 77,
     "metadata": {},
     "output_type": "execute_result"
    }
   ],
   "source": [
    "### Here's what we need.\n",
    "data[0][0]"
   ]
  },
  {
   "cell_type": "code",
   "execution_count": 78,
   "metadata": {},
   "outputs": [],
   "source": [
    "### For-loops for days!\n",
    "## prepping two lists, one for mins and one for maxs\n",
    "minlist = []\n",
    "maxlist = []\n",
    "## For each row in the data under column 0 (the one describing the min-max ranges)...\n",
    "for i in range(0, len(data)):\n",
    "    # split the row under column \"0\" on its separator (the  \"-\")\n",
    "    min_max_element = data[0][i].split(\"-\")\n",
    "    minlist.append(int(min_max_element[0]))\n",
    "    maxlist.append(int(min_max_element[1]))"
   ]
  },
  {
   "cell_type": "markdown",
   "metadata": {},
   "source": [
    "### Now we'll make a new dataset and name the columns properly, just to keep things easy for us\n"
   ]
  },
  {
   "cell_type": "code",
   "execution_count": 79,
   "metadata": {},
   "outputs": [],
   "source": [
    "fancy_new_dataset = pd.DataFrame()\n",
    "## We'll need to insert our new lists first\n",
    "fancy_new_dataset.insert(0, \"Min\", minlist)\n",
    "fancy_new_dataset.insert(1, \"Max\", maxlist)\n",
    "## Then we need the correct letters from the old column \"1\", but without the colon (\":\")\n",
    "new_strings = data[1].str.replace(\":\", \"\")\n",
    "# and insert them\n",
    "fancy_new_dataset.insert(2, \"Letters\", new_strings)\n",
    "## lastly, we insert the values under column \"2\" in the old data\n",
    "fancy_new_dataset.insert(3, \"passwords\", data[2])"
   ]
  },
  {
   "cell_type": "markdown",
   "metadata": {},
   "source": [
    "Magic!"
   ]
  },
  {
   "cell_type": "code",
   "execution_count": 80,
   "metadata": {},
   "outputs": [
    {
     "data": {
      "text/html": [
       "<div>\n",
       "<style scoped>\n",
       "    .dataframe tbody tr th:only-of-type {\n",
       "        vertical-align: middle;\n",
       "    }\n",
       "\n",
       "    .dataframe tbody tr th {\n",
       "        vertical-align: top;\n",
       "    }\n",
       "\n",
       "    .dataframe thead th {\n",
       "        text-align: right;\n",
       "    }\n",
       "</style>\n",
       "<table border=\"1\" class=\"dataframe\">\n",
       "  <thead>\n",
       "    <tr style=\"text-align: right;\">\n",
       "      <th></th>\n",
       "      <th>Min</th>\n",
       "      <th>Max</th>\n",
       "      <th>Letters</th>\n",
       "      <th>passwords</th>\n",
       "    </tr>\n",
       "  </thead>\n",
       "  <tbody>\n",
       "    <tr>\n",
       "      <th>0</th>\n",
       "      <td>1</td>\n",
       "      <td>7</td>\n",
       "      <td>q</td>\n",
       "      <td>qqqqxvqrkbqqztlqlzq</td>\n",
       "    </tr>\n",
       "    <tr>\n",
       "      <th>1</th>\n",
       "      <td>1</td>\n",
       "      <td>3</td>\n",
       "      <td>q</td>\n",
       "      <td>cqbm</td>\n",
       "    </tr>\n",
       "    <tr>\n",
       "      <th>2</th>\n",
       "      <td>15</td>\n",
       "      <td>16</td>\n",
       "      <td>h</td>\n",
       "      <td>hhhhhhhhhhhhhhbsh</td>\n",
       "    </tr>\n",
       "    <tr>\n",
       "      <th>3</th>\n",
       "      <td>4</td>\n",
       "      <td>16</td>\n",
       "      <td>x</td>\n",
       "      <td>xvbxswpnvxtnfjrxxx</td>\n",
       "    </tr>\n",
       "    <tr>\n",
       "      <th>4</th>\n",
       "      <td>6</td>\n",
       "      <td>7</td>\n",
       "      <td>v</td>\n",
       "      <td>kbbvnswp</td>\n",
       "    </tr>\n",
       "  </tbody>\n",
       "</table>\n",
       "</div>"
      ],
      "text/plain": [
       "   Min  Max Letters            passwords\n",
       "0    1    7       q  qqqqxvqrkbqqztlqlzq\n",
       "1    1    3       q                 cqbm\n",
       "2   15   16       h    hhhhhhhhhhhhhhbsh\n",
       "3    4   16       x   xvbxswpnvxtnfjrxxx\n",
       "4    6    7       v             kbbvnswp"
      ]
     },
     "execution_count": 80,
     "metadata": {},
     "output_type": "execute_result"
    }
   ],
   "source": [
    "fancy_new_dataset.head()"
   ]
  },
  {
   "cell_type": "markdown",
   "metadata": {},
   "source": [
    "### Finally, we track down the number of valid passwords"
   ]
  },
  {
   "cell_type": "code",
   "execution_count": 104,
   "metadata": {},
   "outputs": [],
   "source": [
    "### Setting some variables aside\n",
    "mins = fancy_new_dataset[\"Min\"]\n",
    "maxs = fancy_new_dataset[\"Max\"]\n",
    "letters = fancy_new_dataset[\"Letters\"]\n",
    "passwords = fancy_new_dataset[\"passwords\"]\n",
    "\n",
    "### Setting up a variable to keep track of the number of correct passwords. We initially set this variable to zero.\n",
    "Correct_password_counter = 0\n",
    "\n",
    "### For-loops for days!\n",
    "## For each rownumber in the data...\n",
    "for i in range(0, len(fancy_new_dataset)):\n",
    "    ## ...count the number of times the given letter occurs in the password...\n",
    "    count = passwords[i].count(letters[i])\n",
    "    \n",
    "    ## ...and check whether or not that number is over the max- or min-number for that specific row \n",
    "    if count > maxs[i] or count < mins[i]:\n",
    "#         print(passwords[i], \": Wrong!\")\n",
    "    ## If it is, continue on and do nothing.\n",
    "        continue\n",
    "    ## If not, it meets our requirements and can be safely added to our counter. \n",
    "    else:\n",
    "#         print(passwords[i], \": Correct!\")\n",
    "        Correct_password_counter += 1"
   ]
  },
  {
   "cell_type": "code",
   "execution_count": 110,
   "metadata": {},
   "outputs": [
    {
     "name": "stdout",
     "output_type": "stream",
     "text": [
      "The number of proper passwords here is: \n",
      " *drumroll* \n",
      " 500 !\n"
     ]
    }
   ],
   "source": [
    "### Here's our answer!\n",
    "print(\"The number of proper passwords here is: \\n *drumroll* \\n\",\n",
    "      Correct_password_counter, \"!\")"
   ]
  },
  {
   "cell_type": "markdown",
   "metadata": {},
   "source": [
    "## Assignment 2 - Part 2"
   ]
  },
  {
   "cell_type": "markdown",
   "metadata": {},
   "source": [
    "### For this assignment we need to validate positions of strings. We'll use a similar method as the one above for this."
   ]
  },
  {
   "cell_type": "code",
   "execution_count": 148,
   "metadata": {},
   "outputs": [],
   "source": [
    "### Setting some variables aside\n",
    "## For this particular assignment, we need to cut the number of mins and maxs by 1, as python begins counting from 0, not 1\n",
    "mins = fancy_new_dataset[\"Min\"]-1\n",
    "maxs = fancy_new_dataset[\"Max\"]-1\n",
    "letters = fancy_new_dataset[\"Letters\"]\n",
    "passwords = fancy_new_dataset[\"passwords\"]\n",
    "\n",
    "### Setting up a variable to keep track of the number of correct passwords. We initially set this variable to zero.\n",
    "Correct_password_counter = 0\n",
    "\n",
    "### For-loops for days!\n",
    "## For each rownumber in the data...\n",
    "for i in range(0, len(fancy_new_dataset)):\n",
    "    ## This one's a little complicated... If a character within the password for row i (so essentially one of the letters that password consists of) on a position indicated by our given minimum number (mins) \n",
    "    ## for the previous assignment on row i matches the required letter fort hat row OR if the same is true for the maximum-value from the previous assignment...\n",
    "    if passwords[i][mins[i]] == letters[i] or passwords[i][maxs[i]] == letters[i]:\n",
    "        # ...for these cases, if the letter is on BOTH (indicated by AND) the position indicated by max and min on the password, the poor thing is ignored. :(\n",
    "        if passwords[i][mins[i]] == letters[i] and passwords[i][maxs[i]] == letters[i]:\n",
    "            continue\n",
    "        # If not, we're fine and a marker is added to our correct-password-counter! \n",
    "        else: \n",
    "            Correct_password_counter += 1"
   ]
  },
  {
   "cell_type": "code",
   "execution_count": 150,
   "metadata": {},
   "outputs": [
    {
     "name": "stdout",
     "output_type": "stream",
     "text": [
      "The number of proper passwords here is: \n",
      " *drumroll* \n",
      " 313 !\n"
     ]
    }
   ],
   "source": [
    "### Here's our answer!\n",
    "print(\"The number of proper passwords here is: \\n *drumroll* \\n\",\n",
    "      Correct_password_counter, \"!\")"
   ]
  }
 ],
 "metadata": {
  "kernelspec": {
   "display_name": "Python 3",
   "language": "python",
   "name": "python3"
  },
  "language_info": {
   "codemirror_mode": {
    "name": "ipython",
    "version": 3
   },
   "file_extension": ".py",
   "mimetype": "text/x-python",
   "name": "python",
   "nbconvert_exporter": "python",
   "pygments_lexer": "ipython3",
   "version": "3.7.6"
  }
 },
 "nbformat": 4,
 "nbformat_minor": 4
}
