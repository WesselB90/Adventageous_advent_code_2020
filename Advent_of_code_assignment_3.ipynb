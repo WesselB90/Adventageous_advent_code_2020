{
 "cells": [
  {
   "cell_type": "markdown",
   "metadata": {},
   "source": [
    "## Assignment 2 - Part 1"
   ]
  },
  {
   "cell_type": "markdown",
   "metadata": {},
   "source": [
    "### Import packages"
   ]
  },
  {
   "cell_type": "code",
   "execution_count": 185,
   "metadata": {},
   "outputs": [],
   "source": [
    "import numpy as np"
   ]
  },
  {
   "cell_type": "markdown",
   "metadata": {},
   "source": [
    "### Getting our input"
   ]
  },
  {
   "cell_type": "code",
   "execution_count": 177,
   "metadata": {},
   "outputs": [],
   "source": [
    "file = open(\"task_3_data.txt\", \"r\")\n",
    "dots_n_trees = file.read().split(\"\\n\")"
   ]
  },
  {
   "cell_type": "markdown",
   "metadata": {},
   "source": [
    "### Checking out a segment"
   ]
  },
  {
   "cell_type": "code",
   "execution_count": 178,
   "metadata": {},
   "outputs": [
    {
     "data": {
      "text/plain": [
       "['.#.#....##.......#..........#..',\n",
       " '...#...........##...#..#.......',\n",
       " '#.####......##.#...#......#.#..',\n",
       " '##.....#.#.#..#.#............#.',\n",
       " '##.....#....#.........#...##...',\n",
       " '###..#.....#....#..............',\n",
       " '..........#..#.#..#.#....#.....',\n",
       " '##.....#....#.#...#.##.........',\n",
       " '#...#......#....##....#..#.#...',\n",
       " '.##.##...#....##..#.#.....#...#']"
      ]
     },
     "execution_count": 178,
     "metadata": {},
     "output_type": "execute_result"
    }
   ],
   "source": [
    "dots_n_trees[0:10]"
   ]
  },
  {
   "cell_type": "markdown",
   "metadata": {},
   "source": [
    "### Just some descriptives"
   ]
  },
  {
   "cell_type": "code",
   "execution_count": 179,
   "metadata": {},
   "outputs": [
    {
     "data": {
      "text/plain": [
       "323"
      ]
     },
     "execution_count": 179,
     "metadata": {},
     "output_type": "execute_result"
    }
   ],
   "source": [
    "len(dots_n_trees)"
   ]
  },
  {
   "cell_type": "code",
   "execution_count": 180,
   "metadata": {},
   "outputs": [
    {
     "data": {
      "text/plain": [
       "31"
      ]
     },
     "execution_count": 180,
     "metadata": {},
     "output_type": "execute_result"
    }
   ],
   "source": [
    "len(dots_n_trees[0])"
   ]
  },
  {
   "cell_type": "markdown",
   "metadata": {},
   "source": [
    "324 lines which are 32 characters broad. Good to know!"
   ]
  },
  {
   "cell_type": "markdown",
   "metadata": {},
   "source": [
    "### Now to navigate our way through this little quest..."
   ]
  },
  {
   "cell_type": "code",
   "execution_count": 181,
   "metadata": {},
   "outputs": [
    {
     "name": "stdout",
     "output_type": "stream",
     "text": [
      "All done! Our grand journey amid trees, hashes and dots has ended. In our adventure, we eventually came across a grand total of 228 trees. What a journey it was...\n"
     ]
    }
   ],
   "source": [
    "### First, we start by defining two variables: A horizontal position from left to right (all left being 0, all right being 31) and the number of trees. We start out with both at 0\n",
    "hor_pos = 0 # from left to right\n",
    "tree_counts = 0\n",
    "## go time!\n",
    "\n",
    "### For each VERTICAL position (i.e. line/row in the data above)...\n",
    "for vert_pos in range(0, len(dots_n_trees)):\n",
    "    ## ...if the horizontal position exceeds the maximum length of the specific row, for instance if it were 33...\n",
    "    if hor_pos >= len(dots_n_trees[0]):\n",
    "        # ...subtract the regular length of the row by the horizontal position, moving back to the left.\n",
    "        hor_pos = hor_pos - len(dots_n_trees[0])\n",
    "        \n",
    "    ## If we exceed the maximum number of lines in the data (324)...\n",
    "    if vert_pos >= len(dots_n_trees):\n",
    "        # ...stop looping\n",
    "        break\n",
    "        \n",
    "    ## Store the encountered character in a variable\n",
    "    dot_or_tree = dots_n_trees[vert_pos][hor_pos]\n",
    "    \n",
    "    ## Check if it's a tree (#) and, if so, add +1 to tree_counts\n",
    "    tree_counts += dot_or_tree.count(\"#\")\n",
    "    \n",
    "    ## Now move 3 spaces to the right.\n",
    "    hor_pos += 3\n",
    "\n",
    "print(\"All done! Our grand journey amid trees, hashes and dots has ended. In our adventure, we eventually came across a grand total of\", tree_counts, \"trees. What a journey it was...\")\n"
   ]
  },
  {
   "cell_type": "markdown",
   "metadata": {},
   "source": [
    "## Assignment 2 - Part 2"
   ]
  },
  {
   "cell_type": "markdown",
   "metadata": {},
   "source": [
    "### We need to do what we did last time, but make things a little more complicated, navigating several paths at the same time. Nothing we can't handle, though!"
   ]
  },
  {
   "cell_type": "code",
   "execution_count": 229,
   "metadata": {},
   "outputs": [],
   "source": [
    "### These are the numbers we'll be working with\n",
    "# Right 1, down 1.\n",
    "# Right 3, down 1. (This is the slope you already checked.)\n",
    "# Right 5, down 1.\n",
    "# Right 7, down 1.\n",
    "# Right 1, down 2."
   ]
  },
  {
   "cell_type": "code",
   "execution_count": 193,
   "metadata": {},
   "outputs": [
    {
     "name": "stdout",
     "output_type": "stream",
     "text": [
      "All done! Our grand journey amid trees, hashes and dots has ended. In our adventure, when per iteration we took 1 down and 1 to the right, we came across 84 trees. What a journey it was...\n",
      "All done! Our grand journey amid trees, hashes and dots has ended. In our adventure, when per iteration we took 1 down and 3 to the right, we came across 228 trees. What a journey it was...\n",
      "All done! Our grand journey amid trees, hashes and dots has ended. In our adventure, when per iteration we took 1 down and 5 to the right, we came across 89 trees. What a journey it was...\n",
      "All done! Our grand journey amid trees, hashes and dots has ended. In our adventure, when per iteration we took 1 down and 7 to the right, we came across 100 trees. What a journey it was...\n",
      "All done! Our grand journey amid trees, hashes and dots has ended. In our adventure, when per iteration we took 2 down and 1 to the right, we came across 40 trees. What a journey it was...\n"
     ]
    }
   ],
   "source": [
    "## Once more into the fray...\n",
    "hor_pos = 0 # from left to right\n",
    "tree_counts = 0\n",
    "total_counts = []\n",
    "## go time!\n",
    "\n",
    "steps_down = [1,1,1,1,2]\n",
    "steps_right = [1,3,5,7,1]\n",
    "\n",
    "for i in range(0, len(steps_right)):\n",
    "    hor_pos = 0\n",
    "    tree_counts = 0\n",
    "    ### For each VERTICAL position (i.e. line/row in the data above)...\n",
    "    for vert_pos in range(0, len(dots_n_trees), steps_down[i]):\n",
    "        ## ...if the horizontal position exceeds the maximum length of the specific row, for instance if it were 33...\n",
    "        if hor_pos >= len(dots_n_trees[0]):\n",
    "            # ...subtract the regular length of the row by the horizontal position, moving back to the left.\n",
    "            hor_pos = hor_pos - len(dots_n_trees[0])\n",
    "\n",
    "        ## If we exceed the maximum number of lines in the data (324)...\n",
    "        if vert_pos >= len(dots_n_trees):\n",
    "            # ...stop looping\n",
    "            break\n",
    "\n",
    "        ## Store the encountered character in a variable\n",
    "        dot_or_tree = dots_n_trees[vert_pos][hor_pos]\n",
    "\n",
    "        ## Check if it's a tree (#) and, if so, add +1 to tree_counts\n",
    "        tree_counts += dot_or_tree.count(\"#\")\n",
    "\n",
    "        ## Now move 3 spaces to the right.\n",
    "        hor_pos += steps_right[i]\n",
    "    \n",
    "    total_counts.append(tree_counts)\n",
    "\n",
    "    print(\"All done! Our grand journey amid trees, hashes and dots has ended. In our adventure, when per iteration we took\", steps_down[i], \"down and\", steps_right[i], \"to the right, we came across\", tree_counts, \"trees. What a journey it was...\")\n"
   ]
  },
  {
   "cell_type": "code",
   "execution_count": 226,
   "metadata": {},
   "outputs": [
    {
     "data": {
      "text/plain": [
       "-1771822592"
      ]
     },
     "execution_count": 226,
     "metadata": {},
     "output_type": "execute_result"
    }
   ],
   "source": [
    "np.prod(total_counts)"
   ]
  },
  {
   "cell_type": "markdown",
   "metadata": {},
   "source": [
    "Uhhhh... That can't be right..."
   ]
  },
  {
   "cell_type": "code",
   "execution_count": 227,
   "metadata": {},
   "outputs": [
    {
     "data": {
      "text/plain": [
       "[84, 228, 89, 100, 40]"
      ]
     },
     "execution_count": 227,
     "metadata": {},
     "output_type": "execute_result"
    }
   ],
   "source": [
    "total_counts"
   ]
  },
  {
   "cell_type": "code",
   "execution_count": 228,
   "metadata": {},
   "outputs": [
    {
     "data": {
      "text/plain": [
       "6818112000"
      ]
     },
     "execution_count": 228,
     "metadata": {},
     "output_type": "execute_result"
    }
   ],
   "source": [
    "84*228*89*100*40"
   ]
  }
 ],
 "metadata": {
  "kernelspec": {
   "display_name": "Python 3",
   "language": "python",
   "name": "python3"
  },
  "language_info": {
   "codemirror_mode": {
    "name": "ipython",
    "version": 3
   },
   "file_extension": ".py",
   "mimetype": "text/x-python",
   "name": "python",
   "nbconvert_exporter": "python",
   "pygments_lexer": "ipython3",
   "version": "3.7.6"
  }
 },
 "nbformat": 4,
 "nbformat_minor": 4
}
